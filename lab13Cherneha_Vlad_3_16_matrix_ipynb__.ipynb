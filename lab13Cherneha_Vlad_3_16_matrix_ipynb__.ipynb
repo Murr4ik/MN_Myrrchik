{
  "cells": [
    {
      "cell_type": "code",
      "source": [
        "# Імпорт необхідних бібліотек\n",
        "import pandas as pd\n",
        "import numpy as np\n",
        "from sklearn.model_selection import train_test_split\n",
        "from sklearn.feature_extraction.text import TfidfVectorizer\n",
        "from sklearn.naive_bayes import MultinomialNB\n",
        "from sklearn.metrics import accuracy_score, classification_report, confusion_matrix\n",
        "import matplotlib.pyplot as plt\n",
        "import seaborn as sns\n",
        "\n",
        "# Завантаження даних\n",
        "!wget -O spam.csv https://raw.githubusercontent.com/justmarkham/pycon-2016-tutorial/master/data/sms.tsv"
      ],
      "metadata": {
        "colab": {
          "base_uri": "https://localhost:8080/"
        },
        "id": "0xByCmN2s8g8",
        "outputId": "75042c14-ffcf-4ffa-e5c9-75bd30dfd819"
      },
      "id": "0xByCmN2s8g8",
      "execution_count": 2,
      "outputs": [
        {
          "output_type": "stream",
          "name": "stdout",
          "text": [
            "--2025-06-02 22:12:18--  https://raw.githubusercontent.com/justmarkham/pycon-2016-tutorial/master/data/sms.tsv\n",
            "Resolving raw.githubusercontent.com (raw.githubusercontent.com)... 185.199.108.133, 185.199.109.133, 185.199.110.133, ...\n",
            "Connecting to raw.githubusercontent.com (raw.githubusercontent.com)|185.199.108.133|:443... connected.\n",
            "HTTP request sent, awaiting response... 200 OK\n",
            "Length: 477907 (467K) [text/plain]\n",
            "Saving to: ‘spam.csv’\n",
            "\n",
            "spam.csv            100%[===================>] 466.71K  --.-KB/s    in 0.02s   \n",
            "\n",
            "2025-06-02 22:12:18 (23.2 MB/s) - ‘spam.csv’ saved [477907/477907]\n",
            "\n"
          ]
        }
      ]
    },
    {
      "cell_type": "code",
      "source": [
        "# Читання даних\n",
        "df = pd.read_csv('spam.csv', sep='\\t', header=None, names=['label', 'message'])\n",
        "print(\"Перші 5 записів:\")\n",
        "print(df.head())\n",
        "print(\"\\nІнформація про набір даних:\")\n",
        "print(df.info())\n",
        "print(\"\\nРозподіл класів:\")\n",
        "print(df['label'].value_counts())\n",
        "\n",
        "# Візуалізація розподілу класів\n",
        "plt.figure(figsize=(6, 4))\n",
        "sns.countplot(x='label', data=df)\n",
        "plt.title('Розподіл спаму та не спаму')\n",
        "plt.show()"
      ],
      "metadata": {
        "colab": {
          "base_uri": "https://localhost:8080/",
          "height": 844
        },
        "id": "lf-QIFCxs-ip",
        "outputId": "295e63ec-a046-42a2-c489-1c7e61ebe09e"
      },
      "id": "lf-QIFCxs-ip",
      "execution_count": 3,
      "outputs": [
        {
          "output_type": "stream",
          "name": "stdout",
          "text": [
            "Перші 5 записів:\n",
            "  label                                            message\n",
            "0   ham  Go until jurong point, crazy.. Available only ...\n",
            "1   ham                      Ok lar... Joking wif u oni...\n",
            "2  spam  Free entry in 2 a wkly comp to win FA Cup fina...\n",
            "3   ham  U dun say so early hor... U c already then say...\n",
            "4   ham  Nah I don't think he goes to usf, he lives aro...\n",
            "\n",
            "Інформація про набір даних:\n",
            "<class 'pandas.core.frame.DataFrame'>\n",
            "RangeIndex: 5572 entries, 0 to 5571\n",
            "Data columns (total 2 columns):\n",
            " #   Column   Non-Null Count  Dtype \n",
            "---  ------   --------------  ----- \n",
            " 0   label    5572 non-null   object\n",
            " 1   message  5572 non-null   object\n",
            "dtypes: object(2)\n",
            "memory usage: 87.2+ KB\n",
            "None\n",
            "\n",
            "Розподіл класів:\n",
            "label\n",
            "ham     4825\n",
            "spam     747\n",
            "Name: count, dtype: int64\n"
          ]
        },
        {
          "output_type": "display_data",
          "data": {
            "text/plain": [
              "<Figure size 600x400 with 1 Axes>"
            ],
            "image/png": "[encoded data removed]"
          },
          "metadata": {}
        }
      ]
    },
    {
      "cell_type": "code",
      "source": [
        "# Попередня обробка даних\n",
        "# Перетворення міток на числові значення (0 - ham, 1 - spam)\n",
        "df['label_num'] = df['label'].map({'ham': 0, 'spam': 1})\n",
        "\n",
        "# Розділення даних на навчальний та тестовий набори\n",
        "X = df['message']\n",
        "y = df['label_num']\n",
        "X_train, X_test, y_train, y_test = train_test_split(X, y, test_size=0.2, random_state=42)\n"
      ],
      "metadata": {
        "id": "8ol_8nDUtD79"
      },
      "id": "8ol_8nDUtD79",
      "execution_count": 4,
      "outputs": []
    },
    {
      "cell_type": "code",
      "source": [
        "# Векторизація тексту\n",
        "vectorizer = TfidfVectorizer(stop_words='english')\n",
        "X_train_tfidf = vectorizer.fit_transform(X_train)\n",
        "X_test_tfidf = vectorizer.transform(X_test)\n",
        "\n",
        "# Навчання моделі (Naive Bayes)\n",
        "model = MultinomialNB()\n",
        "model.fit(X_train_tfidf, y_train)\n",
        "\n",
        "# Прогнозування\n",
        "y_pred = model.predict(X_test_tfidf)"
      ],
      "metadata": {
        "id": "U-YXrlDXtH_I"
      },
      "id": "U-YXrlDXtH_I",
      "execution_count": 5,
      "outputs": []
    },
    {
      "cell_type": "code",
      "source": [
        "# Оцінка моделі\n",
        "print(\"\\nТочність моделі:\", accuracy_score(y_test, y_pred))\n",
        "print(\"\\nЗвіт про класифікацію:\")\n",
        "print(classification_report(y_test, y_pred))\n",
        "\n",
        "# Матриця плутанини\n",
        "conf_mat = confusion_matrix(y_test, y_pred)\n",
        "plt.figure(figsize=(6, 4))\n",
        "sns.heatmap(conf_mat, annot=True, fmt='d', cmap='Blues',\n",
        "            xticklabels=['ham', 'spam'], yticklabels=['ham', 'spam'])\n",
        "plt.xlabel('Прогнозований клас')\n",
        "plt.ylabel('Справжній клас')\n",
        "plt.title('Матриця плутанини')\n",
        "plt.show()"
      ],
      "metadata": {
        "colab": {
          "base_uri": "https://localhost:8080/",
          "height": 636
        },
        "id": "yLt0eVC9tMOT",
        "outputId": "bcd3d378-eb17-46e7-b5fe-1064623a7ecd"
      },
      "id": "yLt0eVC9tMOT",
      "execution_count": 6,
      "outputs": [
        {
          "output_type": "stream",
          "name": "stdout",
          "text": [
            "\n",
            "Точність моделі: 0.97847533632287\n",
            "\n",
            "Звіт про класифікацію:\n",
            "              precision    recall  f1-score   support\n",
            "\n",
            "           0       0.98      1.00      0.99       966\n",
            "           1       1.00      0.84      0.91       149\n",
            "\n",
            "    accuracy                           0.98      1115\n",
            "   macro avg       0.99      0.92      0.95      1115\n",
            "weighted avg       0.98      0.98      0.98      1115\n",
            "\n"
          ]
        },
        {
          "output_type": "display_data",
          "data": {
            "text/plain": [
              "<Figure size 600x400 with 2 Axes>"
            ],
            "image/png": "[encoded data removed]"
          },
          "metadata": {}
        }
      ]
    },
    {
      "cell_type": "code",
      "source": [
        "# Виведення 200 повідомлень з прогнозами\n",
        "results = pd.DataFrame({\n",
        "    'Повідомлення': X_test,\n",
        "    'Справжній клас': y_test.map({0: 'ham', 1: 'spam'}),\n",
        "    'Прогнозований клас': pd.Series(y_pred).map({0: 'ham', 1: 'spam'})\n",
        "})\n",
        "\n",
        "print(\"\\nПерші 200 повідомлень з результатами:\")\n",
        "pd.set_option('display.max_colwidth', 100)\n",
        "print(results.head(200))"
      ],
      "metadata": {
        "colab": {
          "base_uri": "https://localhost:8080/"
        },
        "id": "X8tCD4lgtf8d",
        "outputId": "d672c3db-4e9d-44d7-d55f-effdd17960b6"
      },
      "id": "X8tCD4lgtf8d",
      "execution_count": 8,
      "outputs": [
        {
          "output_type": "stream",
          "name": "stdout",
          "text": [
            "\n",
            "Перші 200 повідомлень з результатами:\n",
            "                                                                                            Повідомлення  \\\n",
            "0                                                                                                    NaN   \n",
            "1                                                                                                    NaN   \n",
            "2                                                                                                    NaN   \n",
            "3                                                                                                    NaN   \n",
            "4                                                                                                    NaN   \n",
            "..                                                                                                   ...   \n",
            "195                                                                                                  NaN   \n",
            "196                                                                                                  NaN   \n",
            "197                                                                                                  NaN   \n",
            "198                                                                                                  NaN   \n",
            "199  Hi its Kate how is your evening? I hope i can see you tomorrow for a bit but i have to bloody ba...   \n",
            "\n",
            "    Справжній клас Прогнозований клас  \n",
            "0              NaN                ham  \n",
            "1              NaN                ham  \n",
            "2              NaN                ham  \n",
            "3              NaN                ham  \n",
            "4              NaN                ham  \n",
            "..             ...                ...  \n",
            "195            NaN                ham  \n",
            "196            NaN                ham  \n",
            "197            NaN                ham  \n",
            "198            NaN                ham  \n",
            "199            ham                ham  \n",
            "\n",
            "[200 rows x 3 columns]\n"
          ]
        }
      ]
    }
  ],
  "metadata": {
    "kernelspec": {
      "display_name": "Python 3 (ipykernel)",
      "language": "python",
      "name": "python3"
    },
    "language_info": {
      "codemirror_mode": {
        "name": "ipython",
        "version": 3
      },
      "file_extension": ".py",
      "mimetype": "text/x-python",
      "name": "python",
      "nbconvert_exporter": "python",
      "pygments_lexer": "ipython3",
      "version": "3.9.2"
    },
    "colab": {
      "provenance": []
    }
  },
  "nbformat": 4,
  "nbformat_minor": 5
}